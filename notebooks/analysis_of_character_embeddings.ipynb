{
 "cells": [
  {
   "cell_type": "markdown",
   "id": "dacea4f6-5c3f-47e3-9da2-499be95d89e8",
   "metadata": {},
   "source": [
    "First, run the following command in the root path of this repository:\n",
    "\n",
    "```shell\n",
    "export archive_file=\"output/CE-CLCNN/wiki_title/ja/base/model.tar.gz\"\n",
    "export input_file=\"https://github.com/frederick0329/Learning-Character-Level/raw/master/data/ja_test.txt\"\n",
    "export output_file=\"output/CE-CLCNN/wiki_title/ja/with_RE_and_WT/prediction_result.jsonl\"\n",
    "\n",
    "\n",
    "CUDA_VISIBLE_DEVICES=0 allennlp predict \\\n",
    "    $archive_file \\\n",
    "    $input_file \\\n",
    "    --output-file $output_file \\\n",
    "    --use-dataset-reader \\\n",
    "    --dataset-reader-choice validation \\\n",
    "    --predictor wiki_title \\\n",
    "    --cuda-device 0\n",
    "```"
   ]
  },
  {
   "cell_type": "code",
   "execution_count": 1,
   "id": "ab642e12-e963-494a-8ea7-4690835a0443",
   "metadata": {},
   "outputs": [],
   "source": [
    "import warnings\n",
    "\n",
    "# ignore warnings for t-SNE\n",
    "warnings.filterwarnings('ignore')\n",
    "\n",
    "import json\n",
    "import pathlib\n",
    "\n",
    "import numpy as np\n",
    "import pandas as pd\n",
    "\n",
    "from collections import defaultdict\n",
    "from typing import Dict, List\n",
    "from dataclasses import dataclass\n",
    "from tqdm import tqdm"
   ]
  },
  {
   "cell_type": "markdown",
   "id": "ffc826b9-b07e-4d13-a60e-c883b6c07b71",
   "metadata": {},
   "source": [
    "## Load the prediction result"
   ]
  },
  {
   "cell_type": "markdown",
   "id": "f1b5a828-3a08-4826-aa50-d6b5785ae3d9",
   "metadata": {},
   "source": [
    "- define some paths for loading files"
   ]
  },
  {
   "cell_type": "code",
   "execution_count": 2,
   "id": "69d286bb-5fcd-46ef-be82-7107058a4b99",
   "metadata": {},
   "outputs": [],
   "source": [
    "ROOT_DIR = pathlib.Path('.').resolve().parent\n",
    "\n",
    "prediction_result_jsonl_path = ROOT_DIR / 'output' / 'CE-CLCNN' / 'wiki_title' / 'ja' / 'base' / 'prediction_result.jsonl'\n",
    "\n",
    "if not prediction_result_jsonl_path.exists():\n",
    "    raise FileNotFoundError(prediction_result_jsonl_path)"
   ]
  },
  {
   "cell_type": "markdown",
   "id": "adeefb54-6457-4315-aedc-98042944837d",
   "metadata": {},
   "source": [
    "- define helper `Result` class"
   ]
  },
  {
   "cell_type": "code",
   "execution_count": 3,
   "id": "11d649bf-93ae-4d8c-b358-a0fbc18d2f2f",
   "metadata": {},
   "outputs": [],
   "source": [
    "@dataclass\n",
    "class Result(object):\n",
    "    logits: List[float]\n",
    "    tokens: List[str]\n",
    "    embeds: List[List[float]]\n",
    "    loss: float\n",
    "    num_categories: int = 12\n",
    "    \n",
    "    def __post_init__(self) -> None:\n",
    "        assert len(self.tokens)  == len(self.embeds)\n",
    "        assert len(self.logits) == self.num_categories"
   ]
  },
  {
   "cell_type": "markdown",
   "id": "86e43d85-a61a-48cc-8562-6bf7df0ed94c",
   "metadata": {},
   "source": [
    "- load prediction result from the jsonl file"
   ]
  },
  {
   "cell_type": "code",
   "execution_count": 4,
   "id": "772acd7f-a45a-4d34-a7bc-c467c8154e8e",
   "metadata": {},
   "outputs": [
    {
     "name": "stderr",
     "output_type": "stream",
     "text": [
      "161955it [01:31, 1775.50it/s]\n"
     ]
    }
   ],
   "source": [
    "results: List[Result] = []\n",
    "with prediction_result_jsonl_path.open('r') as rf:\n",
    "    for line in tqdm(rf):\n",
    "        result_dict = json.loads(line)\n",
    "        result = Result(**result_dict)\n",
    "        results.append(result)"
   ]
  },
  {
   "cell_type": "markdown",
   "id": "e9091bd6-e8d3-4830-a27f-940e780e48a0",
   "metadata": {},
   "source": [
    "- create dataframe of character and its embeddings"
   ]
  },
  {
   "cell_type": "code",
   "execution_count": 5,
   "id": "cbef8e08-9276-493c-b96e-58cebd891a8a",
   "metadata": {},
   "outputs": [
    {
     "name": "stderr",
     "output_type": "stream",
     "text": [
      "100%|████████████████████████████████████████████████████████████████████████████████████████████████████████████████████████████████████████| 4164/4164 [00:22<00:00, 183.04it/s]\n"
     ]
    },
    {
     "data": {
      "text/html": [
       "<div>\n",
       "<style scoped>\n",
       "    .dataframe tbody tr th:only-of-type {\n",
       "        vertical-align: middle;\n",
       "    }\n",
       "\n",
       "    .dataframe tbody tr th {\n",
       "        vertical-align: top;\n",
       "    }\n",
       "\n",
       "    .dataframe thead th {\n",
       "        text-align: right;\n",
       "    }\n",
       "</style>\n",
       "<table border=\"1\" class=\"dataframe\">\n",
       "  <thead>\n",
       "    <tr style=\"text-align: right;\">\n",
       "      <th></th>\n",
       "      <th>char</th>\n",
       "      <th>embed</th>\n",
       "    </tr>\n",
       "  </thead>\n",
       "  <tbody>\n",
       "    <tr>\n",
       "      <th>0</th>\n",
       "      <td>梅</td>\n",
       "      <td>[0.0, 0.09442270647608832, 0.0, 0.0, 0.0, 0.30...</td>\n",
       "    </tr>\n",
       "    <tr>\n",
       "      <th>1</th>\n",
       "      <td>棹</td>\n",
       "      <td>[0.0, 0.3299435079097748, 0.0, 0.0, 0.0, 0.446...</td>\n",
       "    </tr>\n",
       "    <tr>\n",
       "      <th>2</th>\n",
       "      <td>忠</td>\n",
       "      <td>[0.0, 0.3318681095811454, 0.0, 0.0, 0.0, 0.0, ...</td>\n",
       "    </tr>\n",
       "    <tr>\n",
       "      <th>3</th>\n",
       "      <td>夫</td>\n",
       "      <td>[0.0, 0.0, 0.0, 0.0, 0.0, 0.0, 0.0, 0.0, 0.0, ...</td>\n",
       "    </tr>\n",
       "    <tr>\n",
       "      <th>4</th>\n",
       "      <td>加</td>\n",
       "      <td>[0.0, 0.3346048396916444, 0.0, 0.0, 0.0, 0.0, ...</td>\n",
       "    </tr>\n",
       "  </tbody>\n",
       "</table>\n",
       "</div>"
      ],
      "text/plain": [
       "  char                                              embed\n",
       "0    梅  [0.0, 0.09442270647608832, 0.0, 0.0, 0.0, 0.30...\n",
       "1    棹  [0.0, 0.3299435079097748, 0.0, 0.0, 0.0, 0.446...\n",
       "2    忠  [0.0, 0.3318681095811454, 0.0, 0.0, 0.0, 0.0, ...\n",
       "3    夫  [0.0, 0.0, 0.0, 0.0, 0.0, 0.0, 0.0, 0.0, 0.0, ...\n",
       "4    加  [0.0, 0.3346048396916444, 0.0, 0.0, 0.0, 0.0, ..."
      ]
     },
     "execution_count": 5,
     "metadata": {},
     "output_type": "execute_result"
    }
   ],
   "source": [
    "char_to_embeds: Dict[str, List[List[float]]] = defaultdict(list)\n",
    "\n",
    "for result in results:\n",
    "    for char, embed in zip(result.tokens, result.embeds):\n",
    "        char_to_embeds[char].append(embed)\n",
    "\n",
    "char_to_embed: Dict[str, List[float]] = {k: np.array(v).mean(axis=0).tolist() for k, v in tqdm(char_to_embeds.items())}\n",
    "\n",
    "df_char_embed = pd.DataFrame(char_to_embed.items(), columns=['char', 'embed'])\n",
    "df_char_embed.head()"
   ]
  },
  {
   "cell_type": "markdown",
   "id": "571b951e-a5ce-4310-9e57-39d2877ecee5",
   "metadata": {},
   "source": [
    "## K-nearest neighbor-based analysis"
   ]
  },
  {
   "cell_type": "code",
   "execution_count": 6,
   "id": "94d56e8c-b6ee-485e-b5e4-4a0be090eaff",
   "metadata": {},
   "outputs": [
    {
     "data": {
      "text/plain": [
       "NearestNeighbors(n_jobs=4, n_neighbors=10)"
      ]
     },
     "execution_count": 6,
     "metadata": {},
     "output_type": "execute_result"
    }
   ],
   "source": [
    "from sklearn.neighbors import NearestNeighbors\n",
    "\n",
    "knn = NearestNeighbors(n_neighbors=10, n_jobs=4)\n",
    "\n",
    "char_embeds = np.array(df_char_embed['embed'].values.tolist())\n",
    "knn.fit(char_embeds)"
   ]
  },
  {
   "cell_type": "code",
   "execution_count": 7,
   "id": "8a4a1635-a0e5-4240-b32b-8e48ab0253ad",
   "metadata": {},
   "outputs": [],
   "source": [
    "dists, indices = knn.kneighbors(char_embeds)"
   ]
  },
  {
   "cell_type": "code",
   "execution_count": 8,
   "id": "1508d78a-27cf-4912-aa88-342679e12f6c",
   "metadata": {},
   "outputs": [],
   "source": [
    "def get_df_char_dist(\n",
    "    df_char_embed: pd.DataFrame, \n",
    "    target_character: str,\n",
    "    knn_dists: np.ndarray,\n",
    "    knn_indices: np.ndarray,\n",
    ") -> pd.DataFrame:\n",
    "    \n",
    "    target_char_idx = df_char_embed[df_char_embed['char'] == target_character].index\n",
    "    target_dists = knn_dists[target_char_idx][0]\n",
    "    target_indices = knn_indices[target_char_idx][0]\n",
    "\n",
    "    df_tmp = pd.DataFrame(df_char_embed.iloc[target_indices]['char'])\n",
    "    df_tmp['dist'] = target_dists\n",
    "    return df_tmp"
   ]
  },
  {
   "cell_type": "markdown",
   "id": "2e4ea0ae-d1df-42d2-8917-97795bfb934c",
   "metadata": {},
   "source": [
    "- Nearest neighbor result of `銅` (copper), which consists of `金` (gold)"
   ]
  },
  {
   "cell_type": "code",
   "execution_count": 9,
   "id": "5e622b42-97b7-449e-8e7d-ede4136571d9",
   "metadata": {},
   "outputs": [
    {
     "data": {
      "text/html": [
       "<div>\n",
       "<style scoped>\n",
       "    .dataframe tbody tr th:only-of-type {\n",
       "        vertical-align: middle;\n",
       "    }\n",
       "\n",
       "    .dataframe tbody tr th {\n",
       "        vertical-align: top;\n",
       "    }\n",
       "\n",
       "    .dataframe thead th {\n",
       "        text-align: right;\n",
       "    }\n",
       "</style>\n",
       "<table border=\"1\" class=\"dataframe\">\n",
       "  <thead>\n",
       "    <tr style=\"text-align: right;\">\n",
       "      <th></th>\n",
       "      <th>char</th>\n",
       "      <th>dist</th>\n",
       "    </tr>\n",
       "  </thead>\n",
       "  <tbody>\n",
       "    <tr>\n",
       "      <th>906</th>\n",
       "      <td>銅</td>\n",
       "      <td>0.000000</td>\n",
       "    </tr>\n",
       "    <tr>\n",
       "      <th>1643</th>\n",
       "      <td>錫</td>\n",
       "      <td>0.924561</td>\n",
       "    </tr>\n",
       "    <tr>\n",
       "      <th>2939</th>\n",
       "      <td>殉</td>\n",
       "      <td>0.991584</td>\n",
       "    </tr>\n",
       "    <tr>\n",
       "      <th>3018</th>\n",
       "      <td>鉤</td>\n",
       "      <td>1.009748</td>\n",
       "    </tr>\n",
       "    <tr>\n",
       "      <th>2463</th>\n",
       "      <td>銘</td>\n",
       "      <td>1.034260</td>\n",
       "    </tr>\n",
       "    <tr>\n",
       "      <th>2781</th>\n",
       "      <td>拉</td>\n",
       "      <td>1.038966</td>\n",
       "    </tr>\n",
       "    <tr>\n",
       "      <th>2113</th>\n",
       "      <td>鋸</td>\n",
       "      <td>1.058522</td>\n",
       "    </tr>\n",
       "    <tr>\n",
       "      <th>1868</th>\n",
       "      <td>紘</td>\n",
       "      <td>1.062821</td>\n",
       "    </tr>\n",
       "    <tr>\n",
       "      <th>3812</th>\n",
       "      <td>鎔</td>\n",
       "      <td>1.068900</td>\n",
       "    </tr>\n",
       "    <tr>\n",
       "      <th>3339</th>\n",
       "      <td>鏑</td>\n",
       "      <td>1.084629</td>\n",
       "    </tr>\n",
       "  </tbody>\n",
       "</table>\n",
       "</div>"
      ],
      "text/plain": [
       "     char      dist\n",
       "906     銅  0.000000\n",
       "1643    錫  0.924561\n",
       "2939    殉  0.991584\n",
       "3018    鉤  1.009748\n",
       "2463    銘  1.034260\n",
       "2781    拉  1.038966\n",
       "2113    鋸  1.058522\n",
       "1868    紘  1.062821\n",
       "3812    鎔  1.068900\n",
       "3339    鏑  1.084629"
      ]
     },
     "execution_count": 9,
     "metadata": {},
     "output_type": "execute_result"
    }
   ],
   "source": [
    "get_df_char_dist(target_character='銅', df_char_embed=df_char_embed, knn_dists=dists, knn_indices=indices)"
   ]
  },
  {
   "cell_type": "markdown",
   "id": "f2baffce-ebb6-4765-ab7d-274996a1e581",
   "metadata": {},
   "source": [
    "- Nearest neighbor result of `痛` (pain), which consists of `疒` (disease)"
   ]
  },
  {
   "cell_type": "code",
   "execution_count": 10,
   "id": "7696532c-49a0-42f1-9072-a212e93b072a",
   "metadata": {},
   "outputs": [
    {
     "data": {
      "text/html": [
       "<div>\n",
       "<style scoped>\n",
       "    .dataframe tbody tr th:only-of-type {\n",
       "        vertical-align: middle;\n",
       "    }\n",
       "\n",
       "    .dataframe tbody tr th {\n",
       "        vertical-align: top;\n",
       "    }\n",
       "\n",
       "    .dataframe thead th {\n",
       "        text-align: right;\n",
       "    }\n",
       "</style>\n",
       "<table border=\"1\" class=\"dataframe\">\n",
       "  <thead>\n",
       "    <tr style=\"text-align: right;\">\n",
       "      <th></th>\n",
       "      <th>char</th>\n",
       "      <th>dist</th>\n",
       "    </tr>\n",
       "  </thead>\n",
       "  <tbody>\n",
       "    <tr>\n",
       "      <th>2299</th>\n",
       "      <td>痛</td>\n",
       "      <td>0.000000</td>\n",
       "    </tr>\n",
       "    <tr>\n",
       "      <th>3985</th>\n",
       "      <td>濵</td>\n",
       "      <td>0.595612</td>\n",
       "    </tr>\n",
       "    <tr>\n",
       "      <th>3361</th>\n",
       "      <td>臈</td>\n",
       "      <td>0.611274</td>\n",
       "    </tr>\n",
       "    <tr>\n",
       "      <th>2735</th>\n",
       "      <td>癌</td>\n",
       "      <td>0.665778</td>\n",
       "    </tr>\n",
       "    <tr>\n",
       "      <th>2424</th>\n",
       "      <td>瘤</td>\n",
       "      <td>0.671743</td>\n",
       "    </tr>\n",
       "    <tr>\n",
       "      <th>1196</th>\n",
       "      <td>庵</td>\n",
       "      <td>0.697978</td>\n",
       "    </tr>\n",
       "    <tr>\n",
       "      <th>2330</th>\n",
       "      <td>碇</td>\n",
       "      <td>0.703681</td>\n",
       "    </tr>\n",
       "    <tr>\n",
       "      <th>3536</th>\n",
       "      <td>鮑</td>\n",
       "      <td>0.707066</td>\n",
       "    </tr>\n",
       "    <tr>\n",
       "      <th>573</th>\n",
       "      <td>硫</td>\n",
       "      <td>0.727393</td>\n",
       "    </tr>\n",
       "    <tr>\n",
       "      <th>2899</th>\n",
       "      <td>癬</td>\n",
       "      <td>0.728537</td>\n",
       "    </tr>\n",
       "  </tbody>\n",
       "</table>\n",
       "</div>"
      ],
      "text/plain": [
       "     char      dist\n",
       "2299    痛  0.000000\n",
       "3985    濵  0.595612\n",
       "3361    臈  0.611274\n",
       "2735    癌  0.665778\n",
       "2424    瘤  0.671743\n",
       "1196    庵  0.697978\n",
       "2330    碇  0.703681\n",
       "3536    鮑  0.707066\n",
       "573     硫  0.727393\n",
       "2899    癬  0.728537"
      ]
     },
     "execution_count": 10,
     "metadata": {},
     "output_type": "execute_result"
    }
   ],
   "source": [
    "get_df_char_dist(target_character='痛', df_char_embed=df_char_embed, knn_dists=dists, knn_indices=indices)"
   ]
  },
  {
   "cell_type": "markdown",
   "id": "4ae83328-4532-42af-872a-eff014cfad76",
   "metadata": {},
   "source": [
    "- Nearest neighbor result of `い`, which is Hiragana character"
   ]
  },
  {
   "cell_type": "code",
   "execution_count": 11,
   "id": "121cef39-d5e3-4548-bfbb-c61ead8dfcb4",
   "metadata": {},
   "outputs": [
    {
     "data": {
      "text/html": [
       "<div>\n",
       "<style scoped>\n",
       "    .dataframe tbody tr th:only-of-type {\n",
       "        vertical-align: middle;\n",
       "    }\n",
       "\n",
       "    .dataframe tbody tr th {\n",
       "        vertical-align: top;\n",
       "    }\n",
       "\n",
       "    .dataframe thead th {\n",
       "        text-align: right;\n",
       "    }\n",
       "</style>\n",
       "<table border=\"1\" class=\"dataframe\">\n",
       "  <thead>\n",
       "    <tr style=\"text-align: right;\">\n",
       "      <th></th>\n",
       "      <th>char</th>\n",
       "      <th>dist</th>\n",
       "    </tr>\n",
       "  </thead>\n",
       "  <tbody>\n",
       "    <tr>\n",
       "      <th>394</th>\n",
       "      <td>い</td>\n",
       "      <td>0.000000</td>\n",
       "    </tr>\n",
       "    <tr>\n",
       "      <th>1748</th>\n",
       "      <td>ぃ</td>\n",
       "      <td>0.772097</td>\n",
       "    </tr>\n",
       "    <tr>\n",
       "      <th>3297</th>\n",
       "      <td>φ</td>\n",
       "      <td>1.061046</td>\n",
       "    </tr>\n",
       "    <tr>\n",
       "      <th>888</th>\n",
       "      <td>ゆ</td>\n",
       "      <td>1.078242</td>\n",
       "    </tr>\n",
       "    <tr>\n",
       "      <th>414</th>\n",
       "      <td>だ</td>\n",
       "      <td>1.154581</td>\n",
       "    </tr>\n",
       "    <tr>\n",
       "      <th>409</th>\n",
       "      <td>し</td>\n",
       "      <td>1.156721</td>\n",
       "    </tr>\n",
       "    <tr>\n",
       "      <th>2323</th>\n",
       "      <td>ぁ</td>\n",
       "      <td>1.164770</td>\n",
       "    </tr>\n",
       "    <tr>\n",
       "      <th>3602</th>\n",
       "      <td>∀</td>\n",
       "      <td>1.166024</td>\n",
       "    </tr>\n",
       "    <tr>\n",
       "      <th>1883</th>\n",
       "      <td>“</td>\n",
       "      <td>1.184222</td>\n",
       "    </tr>\n",
       "    <tr>\n",
       "      <th>1209</th>\n",
       "      <td>ね</td>\n",
       "      <td>1.189639</td>\n",
       "    </tr>\n",
       "  </tbody>\n",
       "</table>\n",
       "</div>"
      ],
      "text/plain": [
       "     char      dist\n",
       "394     い  0.000000\n",
       "1748    ぃ  0.772097\n",
       "3297    φ  1.061046\n",
       "888     ゆ  1.078242\n",
       "414     だ  1.154581\n",
       "409     し  1.156721\n",
       "2323    ぁ  1.164770\n",
       "3602    ∀  1.166024\n",
       "1883    “  1.184222\n",
       "1209    ね  1.189639"
      ]
     },
     "execution_count": 11,
     "metadata": {},
     "output_type": "execute_result"
    }
   ],
   "source": [
    "get_df_char_dist(target_character='い', df_char_embed=df_char_embed, knn_dists=dists, knn_indices=indices)"
   ]
  }
 ],
 "metadata": {
  "kernelspec": {
   "display_name": "Python 3 (ipykernel)",
   "language": "python",
   "name": "python3"
  },
  "language_info": {
   "codemirror_mode": {
    "name": "ipython",
    "version": 3
   },
   "file_extension": ".py",
   "mimetype": "text/x-python",
   "name": "python",
   "nbconvert_exporter": "python",
   "pygments_lexer": "ipython3",
   "version": "3.8.8"
  }
 },
 "nbformat": 4,
 "nbformat_minor": 5
}
